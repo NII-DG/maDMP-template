{
 "cells": [
  {
   "cell_type": "code",
   "execution_count": null,
   "metadata": {},
   "outputs": [],
   "source": [
    "import glob\n",
    "\n",
    "# notebookそれぞれに'base_'の接頭辞を付与するためのセル\n",
    "path_sections = 'FLOW'\n",
    "templates = glob.glob(os.path.join(path_sections, '**'), recursive=True)\n",
    "for tmpl in templates:\n",
    "    file = os.path.basename(tmpl)\n",
    "    if not os.path.isdir(tmpl) and os.path.splitext(file)[1] == '.ipynb':\n",
    "        os.rename(tmpl, os.path.dirname(tmpl) + '/base_' + os.path.basename(tmpl))\n",
    "        print(os.path.dirname(tmpl) + '/base_' + os.path.basename(tmpl))"
   ]
  }
 ],
 "metadata": {
  "kernelspec": {
   "display_name": "Python 3 (ipykernel)",
   "language": "python",
   "name": "python3"
  },
  "language_info": {
   "codemirror_mode": {
    "name": "ipython",
    "version": 3
   },
   "file_extension": ".py",
   "mimetype": "text/x-python",
   "name": "python",
   "nbconvert_exporter": "python",
   "pygments_lexer": "ipython3",
   "version": "3.7.10"
  }
 },
 "nbformat": 4,
 "nbformat_minor": 2
}
