{
 "cells": [
  {
   "cell_type": "markdown",
   "metadata": {},
   "source": [
    "# ようこそ\n",
    "\n",
    "ここでは、DMPに入力いただいた情報に基づき、研究活動の支援、およびデータ管理品質向上のためにデータガバナンス機能が提供するワークフローを作成します。\n",
    "\n",
    "![maDMP_to_workflow](./images/maDMP_to_workflow.jpg)\n"
   ]
  },
  {
   "cell_type": "markdown",
   "metadata": {},
   "source": [
    "# maDMPを実行する\n",
    "\n",
    "## 1. DMPの情報からワークフローを作成する\n",
    "このmaDMPには、作成いただいたDMPの情報の中で、ワークフローの作成に必要な情報が既に埋め込まれています。  \n",
    "以下のセルを**上から順に全て実行**してください。セルの実行についてはマニュアルを参考にしてください。  "
   ]
  },
  {
   "cell_type": "code",
   "execution_count": null,
   "metadata": {
    "scrolled": true
   },
   "outputs": [],
   "source": [
    "# DMP情報\n",
    "workflowIdentifier = '%v'\n",
    "contentSize = '%v'\n",
    "datasetStructure = '%v'\n",
    "useDocker = '%v'"
   ]
  },
  {
   "cell_type": "code",
   "execution_count": null,
   "metadata": {
    "scrolled": true
   },
   "outputs": [],
   "source": [
    "# ワークフローテンプレート取得\n",
    "clone_url = 'https://github.com/NII-DG/workflow-template'+'.git'\n",
    "workflow_path = '/home/jovyan/WORKFLOWS'\n",
    "!git clone $clone_url $workflow_path\n",
    "!rm -rf $workflow_path/.git"
   ]
  },
  {
   "cell_type": "code",
   "execution_count": null,
   "metadata": {},
   "outputs": [],
   "source": [
    "import requests\n",
    "from WORKFLOWS.except_class import query_err\n",
    "from WORKFLOWS.utils import display_util\n",
    "from WORKFLOWS.utils.param_json import param_json\n",
    "\n",
    "# WORKFLOWS/FLOW/param_files/params.json の　\"siblings\": \"ginHttp\"　\"ginSsh\":を更新する。\n",
    "origin_urls = !git config remote.origin.url\n",
    "url = origin_urls[0]\n",
    "try:\n",
    "    param_json.update_param_url(url)\n",
    "except requests.exceptions.RequestException:\n",
    "    display_util.display_err(\"現在、通信不良が発生しています。\")\n",
    "except query_err.QueryError:\n",
    "    display_util.display_err(\"不正なクエリが発行されました。リポジトリIDが不正なものです。\")"
   ]
  },
  {
   "cell_type": "code",
   "execution_count": null,
   "metadata": {
    "scrolled": true
   },
   "outputs": [],
   "source": [
    "# dmp.jsonに\"fields\"プロパティがある想定\n",
    "import os\n",
    "import glob\n",
    "import shutil\n",
    "\n",
    "path_flows = os.path.join('WORKFLOWS', 'FLOW')\n",
    "\n",
    "templates = glob.glob(os.path.join(path_flows, '**'), recursive=True)\n",
    "\n",
    "# 選択外の分野のセクション群を削除\n",
    "for tmpl in templates:\n",
    "    file = os.path.basename(tmpl)\n",
    "    if not os.path.isdir(tmpl) and os.path.splitext(file)[1] == '.ipynb':\n",
    "        if 'base_' not in file and field not in file:\n",
    "            os.remove(tmpl)"
   ]
  },
  {
   "cell_type": "markdown",
   "metadata": {},
   "source": [
    "## 2. ワークフロー図を準備する\n",
    "\n",
    "次に、ワークフローが俯瞰できる図を表示する準備をします。  \n",
    "以下のセルを実行してください。  \n",
    "実行完了後、表示されるリンクをクリックして研究ワークフロー機能トップページへと遷移してください。"
   ]
  },
  {
   "cell_type": "code",
   "execution_count": null,
   "metadata": {},
   "outputs": [],
   "source": [
    "import os\n",
    "import nbformat\n",
    "import urllib.parse\n",
    "from IPython.display import display, HTML, Javascript\n",
    "\n",
    "flow_path = 'WORKFLOWS/base_FLOW.ipynb'\n",
    "rcos_binder_url = 'https://jupyter.cs.rcos.nii.ac.jp/'\n",
    "flow_path_notebook = 'notebooks/WORKFLOWS/base_FLOW.ipynb'\n",
    "# flow_path_lab = 'lab/tree/WORKFLOW/FLOW/base_FLOW.ipynb'\n",
    "\n",
    "nb = nbformat.read(flow_path, 4)\n",
    "\n",
    "title1 = \"\"\"## ワークフロー図を作成する\n",
    "\n",
    "以下のセルを実行してワークフロー図を作成できます。  \n",
    "すでに実行したタスクを確認したい場合は再度実行してください。\"\"\"\n",
    "\n",
    "code1 = \"\"\"import os\n",
    "from IPython.display import display, SVG, Javascript\n",
    "\n",
    "nb_utils_path   = os.path.join(os.environ['HOME'], 'WORKFLOWS/FLOW/util/scripts/nb_utils.py')\n",
    "\n",
    "basic_path      = os.path.join(os.environ['HOME'], 'WORKFLOWS/images')\n",
    "basic_path_diag = os.path.join(basic_path, 'notebooks.diag')\n",
    "basic_path_svg  = os.path.join(basic_path, 'notebooks.svg')\n",
    "\n",
    "os.chdir(os.environ['HOME'])\n",
    "!python3 $nb_utils_path $basic_path_diag\n",
    "\n",
    "display(SVG(filename=basic_path_svg))\n",
    "display(Javascript('IPython.notebook.save_checkpoint();'))\"\"\"\n",
    "\n",
    "title2 = \"\"\"ワークフロー図の左側にあるノードはワークフローのフェーズとその流れを表しており、右側にあるノードは個々の支援するタスクを表しています。  \n",
    "各タスクを実行するには、実行したいタスクのノードのリンクをクリックしてください。\"\"\"\n",
    "\n",
    "title3 = \"\"\"## GIN-forkへ戻る\n",
    "\n",
    "以下のセルを実行し、表示されるURLをクリックするとGIN-forkへアクセスできます。  \n",
    "リンクをクリックして404エラーが表示された場合は、リポジトリ名が更新されている可能性があるため以下のセルを再度実行して下さい。\"\"\"\n",
    "\n",
    "code2 = \"\"\"import os\n",
    "import subprocess\n",
    "from IPython.display import display, Javascript, clear_output\n",
    "\n",
    "# リモートリポジトリのURLを最新化する\n",
    "os.chdir('/home/jovyan/WORKFLOWS/FLOW/')\n",
    "from util.scripts import utils\n",
    "utils.update_repo_url()\n",
    "os.chdir(os.environ['HOME'])\n",
    "\n",
    "# GIN-forkへのアクセスリンクを表示する\n",
    "clear_output()\n",
    "print('以下のリンクをクリックしてGIN-forkへ遷移してください。新規タブで開きます。\\\\n')\n",
    "print(subprocess.getoutput('git config --get remote.origin.url'))\n",
    "display(Javascript('IPython.notebook.save_checkpoint();'))\"\"\"\n",
    "\n",
    "# ワークフロー図作成セルが無い場合のみbase_FLOW.ipynbにセルを追加する\n",
    "if '## ワークフロー図を作成する' in str(nb):\n",
    "    print('ワークフロー図はすでに準備されています。以下のリンクをクリックしてください。')\n",
    "else:\n",
    "    nb[\"cells\"] += [\n",
    "        nbformat.v4.new_markdown_cell(title1),\n",
    "        nbformat.v4.new_code_cell(code1),\n",
    "        nbformat.v4.new_markdown_cell(title2),\n",
    "        nbformat.v4.new_markdown_cell(title3),\n",
    "        nbformat.v4.new_code_cell(code2)\n",
    "    ]\n",
    "    with open(flow_path, \"w\") as f:\n",
    "        nbformat.write(nb, f)\n",
    "    print('ワークフロー図の準備が完了しました。以下のリンクをクリックしてください。')\n",
    "display(HTML(\"<a href='./WORKFLOWS/base_FLOW.ipynb'>研究ワークフロー機能トップページに遷移する</a>\"))\n",
    "display(Javascript('IPython.notebook.save_checkpoint();'))"
   ]
  }
 ],
 "metadata": {
  "kernelspec": {
   "display_name": "Python 3.9.5 ('flaskenv')",
   "language": "python",
   "name": "python3"
  },
  "language_info": {
   "codemirror_mode": {
    "name": "ipython",
    "version": 3
   },
   "file_extension": ".py",
   "mimetype": "text/x-python",
   "name": "python",
   "nbconvert_exporter": "python",
   "pygments_lexer": "ipython3",
   "version": "3.9.5"
  },
  "vscode": {
   "interpreter": {
    "hash": "c8d2285c1cec65b6e719b0b6513a98242bb07894a50502cd49796fd66a4677b5"
   }
  }
 },
 "nbformat": 4,
 "nbformat_minor": 2
}
