{
 "cells": [
  {
   "cell_type": "markdown",
   "metadata": {},
   "source": [
    "# ようこそ\n",
    "\n",
    "maDMPへようこそ。ここでは、DMPに入力いただいた研究分野等情報に基づき、ワークフローを最適化します。  \n",
    "以下のセルを実行することで、ワークフローを生成し、DMP情報を基に最適化します。"
   ]
  },
  {
   "cell_type": "code",
   "execution_count": null,
   "metadata": {
    "scrolled": true
   },
   "outputs": [],
   "source": [
    "# DMP情報\n",
    "field = '%v'"
   ]
  },
  {
   "cell_type": "code",
   "execution_count": null,
   "metadata": {
    "scrolled": true
   },
   "outputs": [],
   "source": [
    "# ワークフローテンプレート取得\n",
    "clone_url = 'https://github.com/ivis-kuwata/workflow-template'+'.git'\n",
    "workflow_path = '/home/jovyan/WORKFLOW'\n",
    "!git clone $clone_url $workflow_path\n",
    "!rm -rf $workflow_path/.git"
   ]
  },
  {
   "cell_type": "code",
   "execution_count": null,
   "metadata": {
    "scrolled": true
   },
   "outputs": [],
   "source": [
    "# dmp.jsonに\"fields\"プロパティがある想定\n",
    "import os\n",
    "import glob\n",
    "import shutil\n",
    "\n",
    "path_flows = os.path.join('WORKFLOW', 'FLOW')\n",
    "\n",
    "templates = glob.glob(os.path.join(path_flows, '**'), recursive=True)\n",
    "\n",
    "# 選択外の分野のセクション群を削除\n",
    "for tmpl in templates:\n",
    "    file = os.path.basename(tmpl)\n",
    "    if not os.path.isdir(tmpl) and os.path.splitext(file)[1] == '.ipynb':\n",
    "        if 'base_' not in file and field not in file:\n",
    "            os.remove(tmpl)\n",
    "            \n",
    "print('最適化処理が完了しました。次の手順へお進みください。')"
   ]
  },
  {
   "cell_type": "markdown",
   "metadata": {},
   "source": [
    "# ワークフロー全体の関連図と目次を生成する\n",
    "\n",
    "次に、最適化したワークフロー全体が俯瞰できる図を生成します。  \n",
    "以下を実行することで、システムがワークフロー関連図、および目次を作成します。\n",
    "\n",
    "◆◆◆開発メモ◆◆◆\n",
    "\n",
    "*.diagに分野固有のセクションはまだ反映されていない？"
   ]
  },
  {
   "cell_type": "code",
   "execution_count": null,
   "metadata": {},
   "outputs": [],
   "source": [
    "# 必要パッケージのインストール\n",
    "!pip install lxml==4.7.1\n",
    "!pip install blockdiag==3.0.0\n",
    "!pip install nbformat==5.1.3\n",
    "\n",
    "# 日本語対応フォントのインストール\n",
    "!mkdir ~/.fonts\n",
    "!cd ~/.fonts\n",
    "\n",
    "font_deb = 'fonts-ipafont-gothic_00303-18ubuntu1_all.deb'\n",
    "!wget -P ~/.fonts http://archive.ubuntu.com/ubuntu/pool/universe/f/fonts-ipafont/$font_deb\n",
    "!dpkg-deb -x ~/.fonts/$font_deb ~/.fonts\n",
    "!cp ~/.fonts/usr/share/fonts/opentype/ipafont-gothic/ipag.ttf ~/.fonts/ipag.ttf"
   ]
  },
  {
   "cell_type": "code",
   "execution_count": null,
   "metadata": {},
   "outputs": [],
   "source": [
    "import nbformat\n",
    "\n",
    "flow_path = 'WORKFLOW/FLOW/base_FLOW.ipynb'\n",
    "nb = nbformat.read(flow_path, 4)\n",
    "\n",
    "title = \"\"\"## ワークフロー図を作成する\n",
    "\n",
    "以下のセルを実行してワークフロー図を作成できます。\n",
    "各ワークフローを実行するにはそれぞれのリンクをクリックしてください。\"\"\"\n",
    "\n",
    "code = \"\"\"from IPython.display import SVG\n",
    "!cd ~/\n",
    "%%run /home/jovyan/WORKFLOW/scripts/nb_utils.py\n",
    "SVG(filename=generate_svg_diag(diag='WORKFLOW/images/notebooks.diag'))\"\"\"\n",
    "\n",
    "nb[\"cells\"] += [\n",
    "    nbformat.v4.new_markdown_cell(title),\n",
    "    nbformat.v4.new_code_cell(code)\n",
    "]\n",
    "\n",
    "with open(flow_path, \"w\") as f:\n",
    "    nbformat.write(nb, f)\n"
   ]
  }
 ],
 "metadata": {
  "kernelspec": {
   "display_name": "Python 3 (ipykernel)",
   "language": "python",
   "name": "python3"
  },
  "language_info": {
   "codemirror_mode": {
    "name": "ipython",
    "version": 3
   },
   "file_extension": ".py",
   "mimetype": "text/x-python",
   "name": "python",
   "nbconvert_exporter": "python",
   "pygments_lexer": "ipython3",
   "version": "3.8.12"
  }
 },
 "nbformat": 4,
 "nbformat_minor": 2
}
