{
 "cells": [
  {
   "cell_type": "markdown",
   "metadata": {},
   "source": [
    "# ようこそ\n",
    "\n",
    "maDMPへようこそ。ここでは、DMPに入力いただいた研究分野等情報に基づき、ワークフローを最適化します。  \n",
    "以下のセルを実行することで、ワークフローを生成し、DMP情報を基に最適化します。"
   ]
  },
  {
   "cell_type": "code",
   "execution_count": null,
   "metadata": {
    "scrolled": true
   },
   "outputs": [],
   "source": [
    "# DMP情報\n",
    "field = '%v'"
   ]
  },
  {
   "cell_type": "code",
   "execution_count": null,
   "metadata": {
    "scrolled": true
   },
   "outputs": [],
   "source": [
    "%%%sh\n",
    "# ワークフローテンプレート取得\n",
    "# 検証のため、参照先をivis-kuwata/workflow-templateの\n",
    "# issue/merge-templateブランチに変更中\n",
    "git clone -b issue/merge-template https://github.com/ivis-kuwata/workflow-template.git /home/jovyan/WORKFLOW\n",
    "rm -rf /home/jovyan/WORKFLOW/.git"
   ]
  },
  {
   "cell_type": "code",
   "execution_count": null,
   "metadata": {
    "scrolled": true
   },
   "outputs": [],
   "source": [
    "# dmp.jsonに\"fields\"プロパティがある想定\n",
    "import os\n",
    "import glob\n",
    "import shutil\n",
    "\n",
    "path_flows = os.path.join('WORKFLOW', 'FLOW')\n",
    "\n",
    "templates = glob.glob(os.path.join(path_flows, '**'), recursive=True)\n",
    "\n",
    "# 選択外の分野のセクション群を削除\n",
    "for tmpl in templates:\n",
    "    file = os.path.basename(tmpl)\n",
    "    if not os.path.isdir(tmpl) and os.path.splitext(file)[1] == '.ipynb':\n",
    "        if 'base_' not in file and field not in file:\n",
    "            os.remove(tmpl)\n",
    "            \n",
    "print('最適化処理が完了しました。次の手順へお進みください。')"
   ]
  },
  {
   "cell_type": "markdown",
   "metadata": {},
   "source": [
    "# ワークフロー全体の関連図と目次を生成する\n",
    "\n",
    "次に、最適化したワークフロー全体が俯瞰できる図を生成します。  \n",
    "以下を実行することで、システムがワークフロー関連図、および目次を作成します。\n",
    "\n",
    "◆◆◆開発メモ◆◆◆\n",
    "\n",
    "*.diagに分野固有のセクションはまだ反映されていない？"
   ]
  },
  {
   "cell_type": "code",
   "execution_count": null,
   "metadata": {},
   "outputs": [],
   "source": [
    "%%%!\n",
    "# 必要パッケージのインストール\n",
    "pip install lxml\n",
    "pip install blockdiag\n",
    "\n",
    "# 日本語対応フォントのインストール\n",
    "mkdir ~/.fonts\n",
    "cd ~/.fonts\n",
    "wget http://archive.ubuntu.com/ubuntu/pool/universe/f/fonts-ipafont/fonts-ipafont-gothic_00303-18ubuntu1_all.deb\n",
    "dpkg-deb -x fonts-ipafont-gothic_00303-18ubuntu1_all.deb ~/.fonts\n",
    "cp ~/.fonts/usr/share/fonts/opentype/ipafont-gothic/ipag.ttf ~/.fonts/ipag.ttf"
   ]
  },
  {
   "cell_type": "code",
   "execution_count": null,
   "metadata": {},
   "outputs": [],
   "source": [
    "from IPython.display import clear_output\n",
    "\n",
    "# 関連図を作成する\n",
    "%%run /home/jovyan/WORKFLOW/scripts/nb_utils.py\n",
    "setup_diag()\n",
    "filename=generate_svg_diag(diag='/home/jovyan/WORKFLOW/images/notebooks.diag')\n",
    "\n",
    "clear_output()\n",
    "print('関連図の作成が完了しました。')\n"
   ]
  },
  {
   "cell_type": "code",
   "execution_count": null,
   "metadata": {},
   "outputs": [],
   "source": [
    "from IPython.display import Markdown\n",
    "from IPython.display import clear_output\n",
    "\n",
    "%%cd /home/jovyan/WORKFLOW\n",
    "%%run scripts/nb_utils.py\n",
    "%%cd FLOW\n",
    "md_list = [\n",
    "    '## フロー支援機能の使い方',\n",
    "    '「ワークフロー実行準備」を最初に実行したあと、研究準備フェーズから実験期フェーズ、実験終了後フェーズの順に進んでください。<br>各フェーズでは、リンクを押下して、表示される画面の手順に沿って実行することでワークフローを実施できます。  ',\n",
    "    '以下で流れを確認してから、ワークフロー実施に移ってください。'\n",
    "    '[![関連図](../images/notebooks.svg)](../images/notebooks.svg)',\n",
    "    '## 0. ワークフローを実行するための準備をする',\n",
    "    '次のフェーズに進む前に必ず実行する必要があります。<br>ワークフロー機能を使うのが初めての場合は、「FLOWの立ち上げ毎に実行」、「初回立ち上げ時のみ実行」の順にで実行してください。<br>2回目以降は、ワークフロー機能を実行する前に「FLOWの立ち上げ毎に実行」を実行してください。',\n",
    "    str(notebooks_toc('util')),\n",
    "    '## 1. 研究準備フェーズ',\n",
    "    '研究準備フェーズでは実験前の準備をサポートします。',\n",
    "    str(notebooks_toc('01_preparation_phase')),\n",
    "    '## 2. 実験期フェーズ',\n",
    "    '実験期フェーズでは実験の開始から、複数の実験の再現性の確認などをサポートします。<br>まずは、「実験を開始する」から実験を作成してください。実験の終了後、複数の実験の再現性を確認したいタイミングで「実験パイプラインをチェックする」「実験パイプラインを実行する」を実行してください。',\n",
    "    str(notebooks_toc('02_experimental_phase')),\n",
    "    '## 3 実験終了後フェーズ',\n",
    "    '実験終了後フェーズでは研究成果の公開をサポートします。',\n",
    "    str(notebooks_toc('03_after_research_phase'))\n",
    "]\n",
    "%%cd ~/\n",
    "\n",
    "# 目次をFLOW.mdとして書き出す\n",
    "try:\n",
    "    with open('WORKFLOW/FLOW/FLOW.md', 'w') as f:\n",
    "        f.write('\\n'.join(md_list))\n",
    "        clear_output()\n",
    "        print('関連図・目次が作成されました。以下のリンクをクリックしてご覧いただけます。')\n",
    "        print('https://jupyter.cs.rcos.nii.ac.jp' + os.environ['JUPYTERHUB_SERVICE_PREFIX'] + 'notebooks/WORKFLOW/FLOW/FLOW.md')\n",
    "except:\n",
    "    clear_output()\n",
    "    print('申し訳ありません。エラーが発生しました。')"
   ]
  }
 ],
 "metadata": {
  "kernelspec": {
   "display_name": "Python 3 (ipykernel)",
   "language": "python",
   "name": "python3"
  },
  "language_info": {
   "codemirror_mode": {
    "name": "ipython",
    "version": 3
   },
   "file_extension": ".py",
   "mimetype": "text/x-python",
   "name": "python",
   "nbconvert_exporter": "python",
   "pygments_lexer": "ipython3",
   "version": "3.8.12"
  }
 },
 "nbformat": 4,
 "nbformat_minor": 2
}
