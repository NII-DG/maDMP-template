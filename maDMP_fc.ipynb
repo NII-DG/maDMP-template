{
 "cells": [
  {
   "cell_type": "markdown",
   "metadata": {},
   "source": [
    "# maDMPの実行\n",
    "DMPに入力いただいた情報に基づき、研究活動の支援、およびデータ管理品質向上のためにデータガバナンス機能が提供するリサーチフローを作成します。<br>\n",
    "リサーチフローはJupyer Notebookの形式で提供されます。<br>\n",
    "各タスクに記述されているコードはご自身に合わせて編集することが可能です。<br>\n",
    "ただし、編集内容によってはコードが正常に動作しなくなる可能性がありますのでご留意ください。\n",
    "\n",
    "Jupyter Notebookの操作方法については、[こちら](https://support.rdm.nii.ac.jp/usermanual/60/#jp_operation)をご参照ください。新規タブで開きます。"
   ]
  },
  {
   "cell_type": "markdown",
   "metadata": {},
   "source": [
    "## 1. リサーチフロー作成\n",
    "このmaDMPには、作成いただいたDMPの情報の中で、リサーチフローの作成に必要な情報が既に埋め込まれています。<br>\n",
    "DMP情報を取り込み、リサーチフローを作成します。<br>\n",
    "以下のセルを**上から順に全て実行**してください。  "
   ]
  },
  {
   "cell_type": "markdown",
   "metadata": {},
   "source": [
    "### DMP情報の取り込み\n",
    "DMP情報の取り込みを行います。"
   ]
  },
  {
   "cell_type": "code",
   "execution_count": null,
   "metadata": {},
   "outputs": [],
   "source": [
    "# DMP情報\n",
    "workflowIdentifier = '%v'\n",
    "contentSize = '%v'\n",
    "datasetStructure = '%v'\n",
    "useDocker = '%v'"
   ]
  },
  {
   "cell_type": "markdown",
   "metadata": {},
   "source": [
    "### リサーチフローの作成\n",
    "リサーチフローテンプレートを取得し、DMP情報からリサーチフローの作成を行います。"
   ]
  },
  {
   "cell_type": "markdown",
   "metadata": {},
   "source": [
    "リサーチフローテンプレートのダウンロード"
   ]
  },
  {
   "cell_type": "code",
   "execution_count": null,
   "metadata": {},
   "outputs": [],
   "source": [
    "import os\n",
    "import git\n",
    "import shutil\n",
    "clone_url = 'https://github.com/NII-DG/workflow-template.git'\n",
    "workflow_path = os.path.join(os.environ['HOME'], 'WORKFLOWS')\n",
    "git.Repo.clone_from(url=clone_url, to_path=workflow_path, multi_options=['-b main', '--depth 1'])\n",
    "rm_path =  os.path.join(workflow_path, '.git')\n",
    "shutil.rmtree(rm_path)"
   ]
  },
  {
   "cell_type": "markdown",
   "metadata": {},
   "source": [
    "DMP情報からリサーチフローの作成"
   ]
  },
  {
   "cell_type": "code",
   "execution_count": null,
   "metadata": {},
   "outputs": [],
   "source": [
    "from WORKFLOWS.nb_libs.research import madmp\n",
    "madmp.organize_flow(workflowIdentifier)"
   ]
  },
  {
   "cell_type": "markdown",
   "metadata": {},
   "source": [
    "### GIN-forkアクセス準備\n",
    "GIN-forkへアクセスし、環境作成に使用した不要なトークンを削除します。"
   ]
  },
  {
   "cell_type": "markdown",
   "metadata": {},
   "source": [
    "GIN-forkアクセスURLの用意"
   ]
  },
  {
   "cell_type": "code",
   "execution_count": null,
   "metadata": {},
   "outputs": [],
   "source": [
    "from WORKFLOWS.nb_libs.research import madmp\n",
    "madmp.update_gin_url()"
   ]
  },
  {
   "cell_type": "markdown",
   "metadata": {},
   "source": [
    "## 2. 研究フロートップページへ\n",
    "研究フロートップページへのリンクを表示します。<br>\n",
    "リンクをクリックし、研究フロートップページへ遷移してください。"
   ]
  },
  {
   "cell_type": "code",
   "execution_count": null,
   "metadata": {},
   "outputs": [],
   "source": [
    "from WORKFLOWS.nb_libs.utils.path import path\n",
    "from IPython.display import display, Javascript\n",
    "path.res_top_link_from_maDMP()\n",
    "display(Javascript('IPython.notebook.save_checkpoint();'))"
   ]
  }
 ],
 "metadata": {
  "language_info": {
   "name": "python"
  },
  "orig_nbformat": 4
 },
 "nbformat": 4,
 "nbformat_minor": 2
}
