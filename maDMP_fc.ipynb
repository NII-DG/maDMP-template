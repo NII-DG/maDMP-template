{
 "cells": [
  {
   "cell_type": "markdown",
   "metadata": {},
   "source": [
    "# maDMPの実行"
   ]
  },
  {
   "cell_type": "markdown",
   "metadata": {},
   "source": [
    "## 1. リサーチフロー作成"
   ]
  },
  {
   "cell_type": "markdown",
   "metadata": {},
   "source": [
    "### DMP情報の取り込み"
   ]
  },
  {
   "cell_type": "code",
   "execution_count": null,
   "metadata": {},
   "outputs": [],
   "source": [
    "# DMP情報\n",
    "workflowIdentifier = '%v'\n",
    "contentSize = '%v'\n",
    "datasetStructure = '%v'\n",
    "useDocker = '%v'"
   ]
  },
  {
   "cell_type": "markdown",
   "metadata": {},
   "source": [
    "### リサーチフローの作成"
   ]
  },
  {
   "cell_type": "markdown",
   "metadata": {},
   "source": [
    "リサーチフローテンプレートのダウンロード"
   ]
  },
  {
   "cell_type": "code",
   "execution_count": null,
   "metadata": {},
   "outputs": [],
   "source": [
    "import os\n",
    "import git\n",
    "import shutil\n",
    "clone_url = 'https://github.com/NII-DG/workflow-template.git'\n",
    "workflow_path = os.path.join(os.environ['HOME'], 'WORKFLOWS')\n",
    "git.Repo.clone_from(url=clone_url, to_path=workflow_path, multi_options=['-b main', '--depth 1'])\n",
    "rm_path =  os.path.join(workflow_path, '.git')\n",
    "shutil.rmtree(rm_path)"
   ]
  },
  {
   "cell_type": "markdown",
   "metadata": {},
   "source": [
    "DMP情報からリサーチフローの作成"
   ]
  },
  {
   "cell_type": "code",
   "execution_count": null,
   "metadata": {},
   "outputs": [],
   "source": [
    "from WORKFLOWS.nb_libs.research import madmp\n",
    "madmp.organize_flow(workflowIdentifier)"
   ]
  },
  {
   "cell_type": "markdown",
   "metadata": {},
   "source": [
    "### GIN-forkアクセス準備"
   ]
  },
  {
   "cell_type": "markdown",
   "metadata": {},
   "source": [
    "GIN-forkアクセスURLの用意"
   ]
  },
  {
   "cell_type": "code",
   "execution_count": null,
   "metadata": {},
   "outputs": [],
   "source": [
    "from WORKFLOWS.nb_libs.research import madmp\n",
    "madmp.update_gin_url()"
   ]
  },
  {
   "cell_type": "markdown",
   "metadata": {},
   "source": [
    "## 2. 研究フロートップページへ"
   ]
  },
  {
   "cell_type": "code",
   "execution_count": null,
   "metadata": {},
   "outputs": [],
   "source": [
    "from WORKFLOWS.nb_libs.utils.path import path\n",
    "from IPython.display import display, Javascript\n",
    "path.res_top_link_from_maDMP()\n",
    "display(Javascript('IPython.notebook.save_checkpoint();'))"
   ]
  }
 ],
 "metadata": {
  "language_info": {
   "name": "python"
  },
  "orig_nbformat": 4
 },
 "nbformat": 4,
 "nbformat_minor": 2
}
